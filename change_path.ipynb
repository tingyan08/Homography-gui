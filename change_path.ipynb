{
 "cells": [
  {
   "cell_type": "code",
   "execution_count": 2,
   "metadata": {},
   "outputs": [],
   "source": [
    "import os, glob"
   ]
  },
  {
   "cell_type": "code",
   "execution_count": 7,
   "metadata": {},
   "outputs": [],
   "source": [
    "for i in glob.glob(os.path.join(\"./Labels/CTR1/\", \"*.txt\")):\n",
    "    with open(i, \"r\") as f:\n",
    "        lines = f.readlines()\n",
    "        lines[-1] = lines[-1].replace(\"C:\\\\Users\\\\User\\\\Desktop\\\\Homography-gui\\\\\", \"C:\\\\Users\\\\Tingyan\\\\Downloads\\\\Homography-gui\\\\\") \n",
    "    with open(i, \"w\") as f:\n",
    "        f.writelines(lines)"
   ]
  },
  {
   "cell_type": "code",
   "execution_count": 5,
   "metadata": {},
   "outputs": [
    {
     "data": {
      "text/plain": [
       "['395 959\\n',\n",
       " '346 1541\\n',\n",
       " '821 1636\\n',\n",
       " '845 910\\n',\n",
       " 'C:\\\\Users\\\\User\\\\Desktop\\\\Homography-gui\\\\Cropped\\\\CTR1_NE_08000_2.jpg']"
      ]
     },
     "execution_count": 5,
     "metadata": {},
     "output_type": "execute_result"
    }
   ],
   "source": [
    "lines"
   ]
  },
  {
   "cell_type": "code",
   "execution_count": null,
   "metadata": {},
   "outputs": [],
   "source": []
  }
 ],
 "metadata": {
  "kernelspec": {
   "display_name": "homography",
   "language": "python",
   "name": "python3"
  },
  "language_info": {
   "codemirror_mode": {
    "name": "ipython",
    "version": 3
   },
   "file_extension": ".py",
   "mimetype": "text/x-python",
   "name": "python",
   "nbconvert_exporter": "python",
   "pygments_lexer": "ipython3",
   "version": "3.10.13"
  }
 },
 "nbformat": 4,
 "nbformat_minor": 2
}
